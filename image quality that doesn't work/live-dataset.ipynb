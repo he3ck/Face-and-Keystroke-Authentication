{
 "cells": [
  {
   "cell_type": "markdown",
   "metadata": {},
   "source": [
    "### MATLAB mat files\n",
    "The file `dmos.mat` has two arrays of length 982 each: dmos and orgs. `orgs(i)==0` for distorted images.\n",
    "The arrays `dmos` and `orgs` are arranged by concatenating the dmos (and orgs) variables for each database as follows:\n",
    "\n",
    "```dmos=[dmos_jpeg2000(1:227) dmos_jpeg(1:233) white_noise(1:174) gaussian_blur(1:174) fast_fading(1:174)]```\n",
    " \n",
    "where `dmos_distortion(i)` is the dmos value for image `distortion/img_i.bmp` where distortion can be one of the five\n",
    "described above. \n",
    "\n",
    "The values of dmos when corresponding `orgs==1` are zero (they are reference  images). Note that imperceptible\n",
    "loss of quality does not necessarily mean a dmos value of zero due to the   nature of the score processing used.\n",
    "\n",
    "The file refnames_all.mat contains a cell array refnames_all. Entry refnames_all{i} is the name of\n",
    "the reference image for image i whose dmos value is given by dmos(i). If orgs(i)==0, then this is a valid"
   ]
  },
  {
   "cell_type": "code",
   "execution_count": null,
   "metadata": {
    "pycharm": {
     "is_executing": false,
     "name": "#%%\n"
    }
   },
   "outputs": [],
   "source": [
    "import os\n",
    "import re\n",
    "from enum import unique, IntEnum\n",
    "\n",
    "import numpy\n",
    "import pandas\n",
    "from scipy.io import loadmat\n"
   ]
  },
  {
   "cell_type": "code",
   "execution_count": null,
   "metadata": {
    "pycharm": {
     "is_executing": false,
     "name": "#%%\n"
    }
   },
   "outputs": [],
   "source": [
    "paths = list(os.walk('/home/rocampo/data/live'))\n",
    "files = {\n",
    "    os.path.basename(path): [os.path.join(os.path.basename(path), file) for file in files if '.bmp' in file]\n",
    "    for path, _, files in paths\n",
    "    if len(list(filter(lambda x: '.bmp' in x, files))) > 0\n",
    "}\n"
   ]
  },
  {
   "cell_type": "code",
   "execution_count": null,
   "metadata": {
    "pycharm": {
     "is_executing": false,
     "name": "#%%\n"
    }
   },
   "outputs": [],
   "source": [
    "refnames_mat = loadmat('/home/rocampo/data/live/refnames_all.mat')\n",
    "dmos_mat = loadmat('/home/rocampo/data/live/dmos.mat')\n",
    "dmos_realigned_mat = loadmat('/home/rocampo/data/live/dmos_realigned.mat')\n",
    "\n"
   ]
  },
  {
   "cell_type": "code",
   "execution_count": null,
   "metadata": {
    "pycharm": {
     "is_executing": false,
     "name": "#%%\n"
    }
   },
   "outputs": [],
   "source": [
    "refnames = numpy.hstack(refnames_mat['refnames_all'][0])\n",
    "dmos = numpy.hstack(dmos_mat['dmos'])\n",
    "dmos_realigned = numpy.hstack(dmos_realigned_mat['dmos_new'])\n",
    "dmos_realigned_std = numpy.hstack(dmos_realigned_mat['dmos_std'])\n",
    "\n"
   ]
  },
  {
   "cell_type": "code",
   "execution_count": null,
   "metadata": {
    "pycharm": {
     "is_executing": false,
     "name": "#%%\n"
    }
   },
   "outputs": [],
   "source": [
    "def extract_index(file_name):\n",
    "    return int(re.findall(r'\\d+', file_name)[-1])\n",
    "\n",
    "def create_array(file_names):\n",
    "    return {extract_index(file_name): file_name for file_name in file_names}"
   ]
  },
  {
   "cell_type": "code",
   "execution_count": null,
   "metadata": {
    "pycharm": {
     "is_executing": false,
     "name": "#%%\n"
    }
   },
   "outputs": [],
   "source": [
    "@unique\n",
    "class Distortion(IntEnum):\n",
    "    jpeg_2000 = 1\n",
    "    jpeg = 2\n",
    "    white_noise = 3\n",
    "    gaussian_blur = 4\n",
    "    fast_fading = 5\n",
    "\n",
    "arrays = {\n",
    "    Distortion.jpeg_2000: create_array(files['jp2k']),\n",
    "    Distortion.jpeg: create_array(files['jpeg']),\n",
    "    Distortion.white_noise: create_array(files['wn']),\n",
    "    Distortion.gaussian_blur:  create_array(files['gblur']),\n",
    "    Distortion.fast_fading:  create_array(files['fastfading']),  \n",
    "}"
   ]
  },
  {
   "cell_type": "code",
   "execution_count": null,
   "metadata": {
    "pycharm": {
     "is_executing": false,
     "name": "#%%\n"
    }
   },
   "outputs": [],
   "source": [
    "dataframes = [\n",
    "    pandas.DataFrame({\n",
    "        'distortion': distortion, \n",
    "        'index': list(paths.keys()),\n",
    "        'distorted_path': list(paths.values())\n",
    "    })\n",
    "    for distortion, paths in arrays.items() \n",
    "]\n",
    "\n",
    "dataframe = pandas.concat(dataframes)"
   ]
  },
  {
   "cell_type": "code",
   "execution_count": null,
   "metadata": {
    "pycharm": {
     "is_executing": false,
     "name": "#%%\n"
    }
   },
   "outputs": [],
   "source": [
    "dataframe = dataframe.sort_values(by=['distortion', 'index'])"
   ]
  },
  {
   "cell_type": "code",
   "execution_count": null,
   "metadata": {
    "pycharm": {
     "is_executing": false,
     "name": "#%%\n"
    }
   },
   "outputs": [],
   "source": [
    "dataframe['reference_path'] = refnames\n",
    "dataframe['dmos'] = dmos\n",
    "dataframe['dmos_realigned'] = dmos_realigned\n",
    "dataframe['dmos_realigned_std'] = dmos_realigned_std\n",
    "dataframe.reference_path = 'refimgs/' + dataframe.reference_path\n",
    "dataframe.distortion = dataframe.distortion.apply(lambda x: Distortion(x).name)"
   ]
  },
  {
   "cell_type": "code",
   "execution_count": null,
   "metadata": {
    "pycharm": {
     "is_executing": false,
     "name": "#%%\n"
    }
   },
   "outputs": [],
   "source": [
    "dataframe.to_csv('/home/rocampo/data/live_metadata.csv', index=False)\n",
    "\n"
   ]
  }
 ],
 "metadata": {
  "kernelspec": {
   "display_name": "Python 3",
   "language": "python",
   "name": "python3"
  },
  "language_info": {
   "codemirror_mode": {
    "name": "ipython",
    "version": 3
   },
   "file_extension": ".py",
   "mimetype": "text/x-python",
   "name": "python",
   "nbconvert_exporter": "python",
   "pygments_lexer": "ipython3",
   "version": "3.7.4"
  },
  "pycharm": {
   "stem_cell": {
    "cell_type": "raw",
    "metadata": {
     "collapsed": false
    },
    "source": []
   }
  }
 },
 "nbformat": 4,
 "nbformat_minor": 2
}
